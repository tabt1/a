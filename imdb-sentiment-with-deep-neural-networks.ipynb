{
 "cells": [
  {
   "cell_type": "markdown",
   "metadata": {},
   "source": [
    "# 1- Importing libraries"
   ]
  },
  {
   "cell_type": "code",
   "execution_count": 38,
   "metadata": {},
   "outputs": [
    {
     "name": "stdout",
     "output_type": "stream",
     "text": [
      "Version:  2.16.1\n"
     ]
    }
   ],
   "source": [
    "import numpy as np \n",
    "import pandas as pd \n",
    "import tensorflow as tf\n",
    "import string\n",
    "import re\n",
    "import os\n",
    "import nltk\n",
    "from nltk.corpus import stopwords, twitter_samples\n",
    "from nltk.stem import PorterStemmer\n",
    "from nltk.tokenize import TweetTokenizer\n",
    "import matplotlib.pyplot as plt \n",
    "\n",
    "\n",
    "print(\"Version: \", tf.__version__)"
   ]
  },
  {
   "cell_type": "markdown",
   "metadata": {},
   "source": [
    "# 2- Loading and Preprocessing data"
   ]
  },
  {
   "cell_type": "code",
   "execution_count": 2,
   "metadata": {
    "execution": {
     "iopub.execute_input": "2023-03-23T07:00:00.569661Z",
     "iopub.status.busy": "2023-03-23T07:00:00.569396Z",
     "iopub.status.idle": "2023-03-23T07:00:00.575028Z",
     "shell.execute_reply": "2023-03-23T07:00:00.573949Z",
     "shell.execute_reply.started": "2023-03-23T07:00:00.569624Z"
    }
   },
   "outputs": [],
   "source": [
    "# imdb_data_path = \"../input/imdb-dataset-of-50k-movie-reviews/IMDB Dataset.csv\""
   ]
  },
  {
   "cell_type": "code",
   "execution_count": 24,
   "metadata": {},
   "outputs": [],
   "source": [
    "imdb_data = pd.read_csv(\"IMDB Dataset.csv\")"
   ]
  },
  {
   "cell_type": "code",
   "execution_count": 25,
   "metadata": {},
   "outputs": [],
   "source": [
    "# Converting the positive labels to 1 and the negative labels to 0\n",
    "\n",
    "imdb_data['sentiment'].mask(imdb_data['sentiment'] == 'positive', 1, inplace=True)\n",
    "imdb_data['sentiment'].mask(imdb_data['sentiment'] == 'negative', 0, inplace=True)"
   ]
  },
  {
   "cell_type": "code",
   "execution_count": 26,
   "metadata": {},
   "outputs": [],
   "source": [
    "# Get the reviews and the labels\n",
    "\n",
    "all_reviews = list(imdb_data['review'])\n",
    "labels = np.asarray(imdb_data['sentiment'])"
   ]
  },
  {
   "cell_type": "code",
   "execution_count": 27,
   "metadata": {},
   "outputs": [],
   "source": [
    "from tensorflow.keras.preprocessing.text import Tokenizer\n",
    "from tensorflow.keras.preprocessing.sequence import pad_sequences\n",
    "\n",
    "# cutoff reviews after 200 words\n",
    "maxlen = 200\n",
    "training_samples = 40000\n",
    "validation_samples = 5000\n",
    "testing_samples = 5000\n",
    "\n",
    "# consider the top 100000 words in the dataset\n",
    "max_words = 100000\n",
    "\n",
    "# tokenize each review in the dataset\n",
    "tokenizer = Tokenizer(num_words=max_words)\n",
    "tokenizer.fit_on_texts(all_reviews)\n",
    "sequences = tokenizer.texts_to_sequences(all_reviews)"
   ]
  },
  {
   "cell_type": "code",
   "execution_count": 28,
   "metadata": {},
   "outputs": [
    {
     "name": "stdout",
     "output_type": "stream",
     "text": [
      "Found 124252 unique tokens.\n"
     ]
    }
   ],
   "source": [
    "word_index = tokenizer.word_index\n",
    "print(\"Found {} unique tokens.\".format(len(word_index)))\n",
    "ind2word = dict([(value, key) for (key, value) in word_index.items()])"
   ]
  },
  {
   "cell_type": "code",
   "execution_count": 29,
   "metadata": {},
   "outputs": [],
   "source": [
    "# pad the sequences so that all sequences are of the same size\n",
    "data = pad_sequences(sequences, maxlen=maxlen)"
   ]
  },
  {
   "cell_type": "code",
   "execution_count": 31,
   "metadata": {},
   "outputs": [],
   "source": [
    "# shuffling the data and labels\n",
    "\n",
    "indices = np.arange(data.shape[0])\n",
    "np.random.shuffle(indices)\n",
    "\n",
    "data = data[indices]\n",
    "labels = labels[indices]\n",
    "\n",
    "# Splitting the data set to training and validation datasets \n",
    "\n",
    "x_train = data[: training_samples]\n",
    "y_train = labels[: training_samples]\n",
    "\n",
    "x_val = data[training_samples : training_samples + validation_samples]\n",
    "y_val = labels[training_samples : training_samples + validation_samples]\n",
    "\n",
    "x_test = data[training_samples + validation_samples: training_samples + validation_samples + testing_samples]\n",
    "y_test = labels[training_samples + validation_samples: training_samples + validation_samples + testing_samples]\n",
    "\n",
    "# x_train = np.asarray(x_train).astype(np.int)\n",
    "# y_train = np.asarray(y_train).astype(np.int)\n",
    "# x_val = np.asarray(x_val).astype(np.int)\n",
    "# y_val = np.asarray(y_val).astype(np.int)\n",
    "# x_test = np.asarray(x_test).astype(np.int)\n",
    "# y_test = np.asarray(y_test).astype(np.int)\n",
    "x_train = np.asarray(x_train).astype(int)\n",
    "y_train = np.asarray(y_train).astype(int)\n",
    "x_val = np.asarray(x_val).astype(int)\n",
    "y_val = np.asarray(y_val).astype(int)\n",
    "x_test = np.asarray(x_test).astype(int)\n",
    "y_test = np.asarray(y_test).astype(int)\n"
   ]
  },
  {
   "cell_type": "code",
   "execution_count": 32,
   "metadata": {},
   "outputs": [
    {
     "data": {
      "text/plain": [
       "(40000, 200)"
      ]
     },
     "execution_count": 32,
     "metadata": {},
     "output_type": "execute_result"
    }
   ],
   "source": [
    "x_train.shape"
   ]
  },
  {
   "cell_type": "code",
   "execution_count": 33,
   "metadata": {},
   "outputs": [
    {
     "data": {
      "text/plain": [
       "(5000, 200)"
      ]
     },
     "execution_count": 33,
     "metadata": {},
     "output_type": "execute_result"
    }
   ],
   "source": [
    "x_val.shape"
   ]
  },
  {
   "cell_type": "code",
   "execution_count": 34,
   "metadata": {},
   "outputs": [
    {
     "data": {
      "text/plain": [
       "(5000, 200)"
      ]
     },
     "execution_count": 34,
     "metadata": {},
     "output_type": "execute_result"
    }
   ],
   "source": [
    "x_test.shape"
   ]
  },
  {
   "cell_type": "markdown",
   "metadata": {},
   "source": [
    "# 3- Deep Learning Models"
   ]
  },
  {
   "cell_type": "markdown",
   "metadata": {},
   "source": [
    "## 3.1- Simple Model "
   ]
  },
  {
   "cell_type": "code",
   "execution_count": 39,
   "metadata": {},
   "outputs": [
    {
     "name": "stdout",
     "output_type": "stream",
     "text": [
      "Epoch 1/5\n",
      "\u001b[1m1250/1250\u001b[0m \u001b[32m━━━━━━━━━━━━━━━━━━━━\u001b[0m\u001b[37m\u001b[0m \u001b[1m284s\u001b[0m 225ms/step - accuracy: 0.7601 - loss: 0.4597 - val_accuracy: 0.8344 - val_loss: 0.4023\n",
      "Epoch 2/5\n",
      "\u001b[1m1250/1250\u001b[0m \u001b[32m━━━━━━━━━━━━━━━━━━━━\u001b[0m\u001b[37m\u001b[0m \u001b[1m284s\u001b[0m 227ms/step - accuracy: 0.9231 - loss: 0.1969 - val_accuracy: 0.8906 - val_loss: 0.2838\n",
      "Epoch 3/5\n",
      "\u001b[1m1250/1250\u001b[0m \u001b[32m━━━━━━━━━━━━━━━━━━━━\u001b[0m\u001b[37m\u001b[0m \u001b[1m278s\u001b[0m 222ms/step - accuracy: 0.9465 - loss: 0.1429 - val_accuracy: 0.8910 - val_loss: 0.3526\n",
      "Epoch 4/5\n",
      "\u001b[1m1250/1250\u001b[0m \u001b[32m━━━━━━━━━━━━━━━━━━━━\u001b[0m\u001b[37m\u001b[0m \u001b[1m276s\u001b[0m 221ms/step - accuracy: 0.9628 - loss: 0.1013 - val_accuracy: 0.8484 - val_loss: 0.5054\n",
      "Epoch 5/5\n",
      "\u001b[1m1250/1250\u001b[0m \u001b[32m━━━━━━━━━━━━━━━━━━━━\u001b[0m\u001b[37m\u001b[0m \u001b[1m276s\u001b[0m 221ms/step - accuracy: 0.9672 - loss: 0.0864 - val_accuracy: 0.8548 - val_loss: 0.5128\n"
     ]
    }
   ],
   "source": [
    "# embedding_dim = 300\n",
    "# simple_model = tf.keras.models.Sequential([\n",
    "#     tf.keras.layers.Embedding(max_words, embedding_dim, input_length=maxlen),\n",
    "#     #tf.keras.layers.Flatten(),\n",
    "#     tf.keras.layers.GlobalAveragePooling1D(),\n",
    "#     tf.keras.layers.Dense(256, activation='relu'),\n",
    "#     tf.keras.layers.Dense(128, activation='relu'),\n",
    "#     tf.keras.layers.Dense(64, activation='relu'),\n",
    "\n",
    "#     tf.keras.layers.Dense(1, activation='sigmoid')\n",
    "# ])\n",
    "\n",
    "# simple_model.compile(loss='binary_crossentropy',\n",
    "#                      optimizer='adam',\n",
    "#                      metrics=['accuracy'])\n",
    "\n",
    "# simple_model_history = simple_model.fit(x_train,y_train,\n",
    "#                                         validation_data=(x_val,y_val),\n",
    "#                                         epochs=5)\n",
    "\n",
    "embedding_dim = 300\n",
    "simple_model = tf.keras.models.Sequential([\n",
    "    tf.keras.layers.Embedding(max_words, embedding_dim),\n",
    "    tf.keras.layers.GlobalAveragePooling1D(),\n",
    "    tf.keras.layers.Dense(256, activation='relu'),\n",
    "    tf.keras.layers.Dense(128, activation='relu'),\n",
    "    tf.keras.layers.Dense(64, activation='relu'),\n",
    "    tf.keras.layers.Dense(1, activation='sigmoid')\n",
    "])\n",
    "\n",
    "simple_model.compile(loss='binary_crossentropy',\n",
    "                     optimizer='adam',\n",
    "                     metrics=['accuracy'])\n",
    "\n",
    "simple_model_history = simple_model.fit(x_train, y_train,\n",
    "                                        validation_data=(x_val, y_val),\n",
    "                                        epochs=5,\n",
    "                                        batch_size=32)  # You may want to specify batch_size\n",
    "\n"
   ]
  },
  {
   "cell_type": "markdown",
   "metadata": {},
   "source": [
    "# 4- Models Performance visualization"
   ]
  },
  {
   "cell_type": "code",
   "execution_count": 40,
   "metadata": {},
   "outputs": [],
   "source": [
    "def plot_acc_and_loss(model_histpry):\n",
    "\n",
    "    acc = model_histpry.history['accuracy']\n",
    "    val_acc = model_histpry.history['val_accuracy']\n",
    "\n",
    "    loss = model_histpry.history['loss']\n",
    "    val_loss = model_histpry.history['val_loss']\n",
    "\n",
    "    epochs = range(1, len(acc) + 1)\n",
    "\n",
    "    fig, ax = plt.subplots(1, 2, constrained_layout=True, figsize=(6, 4), dpi=80)\n",
    "\n",
    "    ax[0].plot(epochs, acc, label = \"Training Accuracy\", color='darkblue')\n",
    "    ax[0].plot(epochs, val_acc, label = \"Validation Accuracy\", color='darkgreen')\n",
    "    ax[0].grid(alpha=0.3)\n",
    "    ax[0].title.set_text('Training Vs Validation Accuracy')\n",
    "    ax[0].fill_between(epochs, acc, val_acc, color='crimson', alpha=0.3)\n",
    "    plt.setp(ax[0], xlabel='Epochs')\n",
    "    plt.setp(ax[0], ylabel='Accuracy')\n",
    "\n",
    "\n",
    "    ax[1].plot(epochs, loss, label = \"Training Loss\", color='darkblue')\n",
    "    ax[1].plot(epochs, val_loss, label = \"Validation Loss\", color='darkgreen')\n",
    "    ax[1].grid(alpha=0.3)\n",
    "    ax[1].title.set_text('Training Vs Validation Loss')\n",
    "    ax[1].fill_between(epochs,loss, val_loss, color='crimson', alpha=0.3)\n",
    "    plt.setp(ax[1], xlabel='Epochs')\n",
    "    plt.setp(ax[1], ylabel='Loss')"
   ]
  },
  {
   "cell_type": "code",
   "execution_count": 41,
   "metadata": {},
   "outputs": [
    {
     "data": {
      "image/png": "[encoded data removed]",
      "text/plain": [
       "<Figure size 480x320 with 2 Axes>"
      ]
     },
     "metadata": {},
     "output_type": "display_data"
    }
   ],
   "source": [
    "plot_acc_and_loss(simple_model_history)"
   ]
  },
  {
   "cell_type": "markdown",
   "metadata": {},
   "source": [
    "# 5- Testing and Prediction"
   ]
  },
  {
   "cell_type": "code",
   "execution_count": 42,
   "metadata": {
    "_kg_hide-input": true
   },
   "outputs": [
    {
     "name": "stdout",
     "output_type": "stream",
     "text": [
      "\u001b[1m1250/1250\u001b[0m \u001b[32m━━━━━━━━━━━━━━━━━━━━\u001b[0m\u001b[37m\u001b[0m \u001b[1m1s\u001b[0m 898us/step - accuracy: 0.9645 - loss: 0.0802\n",
      "\u001b[1m157/157\u001b[0m \u001b[32m━━━━━━━━━━━━━━━━━━━━\u001b[0m\u001b[37m\u001b[0m \u001b[1m0s\u001b[0m 966us/step - accuracy: 0.8587 - loss: 0.5119\n",
      "\u001b[1m157/157\u001b[0m \u001b[32m━━━━━━━━━━━━━━━━━━━━\u001b[0m\u001b[37m\u001b[0m \u001b[1m0s\u001b[0m 1ms/step - accuracy: 0.8580 - loss: 0.5353\n"
     ]
    }
   ],
   "source": [
    "def eval_model(model):\n",
    "    \n",
    "    model_acc_train_dataset = model.evaluate(x_train, y_train)\n",
    "    model_acc_val_dataset = model.evaluate(x_val, y_val)\n",
    "    model_acc_test_dataset = model.evaluate(x_test, y_test)\n",
    "    \n",
    "    return model_acc_train_dataset, model_acc_val_dataset, model_acc_test_dataset\n",
    "\n",
    "simple_model_acc_train_dataset, simple_model_acc_val_dataset, simple_model_acc_test_dataset = eval_model(simple_model)\n",
    "#simple_rnn_model_acc_train_dataset, simple_rnn_model_acc_val_dataset, simple_rnn_model_acc_test_dataset = eval_model(simple_rnn_model)\n",
    "\n",
    "\n",
    "train_accs = [simple_model_acc_train_dataset[1]]\n",
    "\n",
    "val_accs = [simple_model_acc_val_dataset[1]]\n",
    "\n",
    "test_accs = [simple_model_acc_test_dataset[1]]\n",
    "\n",
    "models_eval_df = pd.DataFrame({\"Training Accuracy\":train_accs, \"Validation Accuracy\":val_accs, \"Testing Accuracy\":test_accs},\n",
    "                              index=['simple_model'])"
   ]
  },
  {
   "cell_type": "code",
   "execution_count": 43,
   "metadata": {},
   "outputs": [
    {
     "data": {
      "text/html": [
       "<div>\n",
       "<style scoped>\n",
       "    .dataframe tbody tr th:only-of-type {\n",
       "        vertical-align: middle;\n",
       "    }\n",
       "\n",
       "    .dataframe tbody tr th {\n",
       "        vertical-align: top;\n",
       "    }\n",
       "\n",
       "    .dataframe thead th {\n",
       "        text-align: right;\n",
       "    }\n",
       "</style>\n",
       "<table border=\"1\" class=\"dataframe\">\n",
       "  <thead>\n",
       "    <tr style=\"text-align: right;\">\n",
       "      <th></th>\n",
       "      <th>Training Accuracy</th>\n",
       "      <th>Validation Accuracy</th>\n",
       "      <th>Testing Accuracy</th>\n",
       "    </tr>\n",
       "  </thead>\n",
       "  <tbody>\n",
       "    <tr>\n",
       "      <th>simple_model</th>\n",
       "      <td>0.96485</td>\n",
       "      <td>0.8548</td>\n",
       "      <td>0.8596</td>\n",
       "    </tr>\n",
       "  </tbody>\n",
       "</table>\n",
       "</div>"
      ],
      "text/plain": [
       "              Training Accuracy  Validation Accuracy  Testing Accuracy\n",
       "simple_model            0.96485               0.8548            0.8596"
      ]
     },
     "execution_count": 43,
     "metadata": {},
     "output_type": "execute_result"
    }
   ],
   "source": [
    "models_eval_df"
   ]
  },
  {
   "cell_type": "code",
   "execution_count": 44,
   "metadata": {},
   "outputs": [],
   "source": [
    "class_names = [\"Positive\",\"Negative\"]"
   ]
  },
  {
   "cell_type": "code",
   "execution_count": 54,
   "metadata": {},
   "outputs": [
    {
     "name": "stdout",
     "output_type": "stream",
     "text": [
      "\u001b[1m157/157\u001b[0m \u001b[32m━━━━━━━━━━━━━━━━━━━━\u001b[0m\u001b[37m\u001b[0m \u001b[1m0s\u001b[0m 1ms/step\n"
     ]
    }
   ],
   "source": [
    "y_predict = simple_model.predict(x_test)"
   ]
  },
  {
   "cell_type": "code",
   "execution_count": 55,
   "metadata": {},
   "outputs": [],
   "source": [
    "y_predict=y_predict.astype(int)"
   ]
  },
  {
   "cell_type": "code",
   "execution_count": 56,
   "metadata": {},
   "outputs": [],
   "source": [
    " from sklearn.metrics import classification_report, confusion_matrix"
   ]
  },
  {
   "cell_type": "code",
   "execution_count": 57,
   "metadata": {},
   "outputs": [
    {
     "name": "stdout",
     "output_type": "stream",
     "text": [
      "              precision    recall  f1-score   support\n",
      "\n",
      "    Positive       0.51      1.00      0.68      2543\n",
      "    Negative       1.00      0.01      0.02      2457\n",
      "\n",
      "    accuracy                           0.51      5000\n",
      "   macro avg       0.76      0.50      0.35      5000\n",
      "weighted avg       0.75      0.51      0.35      5000\n",
      "\n",
      "[[2543    0]\n",
      " [2434   23]]\n"
     ]
    }
   ],
   "source": [
    "print(classification_report(y_test, y_predict, target_names=class_names))\n",
    "\n",
    "print(confusion_matrix(y_test, y_predict))"
   ]
  }
 ],
 "metadata": {
  "kernelspec": {
   "display_name": "Python 3 (ipykernel)",
   "language": "python",
   "name": "python3"
  },
  "language_info": {
   "codemirror_mode": {
    "name": "ipython",
    "version": 3
   },
   "file_extension": ".py",
   "mimetype": "text/x-python",
   "name": "python",
   "nbconvert_exporter": "python",
   "pygments_lexer": "ipython3",
   "version": "3.11.7"
  }
 },
 "nbformat": 4,
 "nbformat_minor": 4
}
